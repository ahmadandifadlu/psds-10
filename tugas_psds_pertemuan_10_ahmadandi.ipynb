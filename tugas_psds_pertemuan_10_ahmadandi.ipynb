{
  "nbformat": 4,
  "nbformat_minor": 0,
  "metadata": {
    "colab": {
      "provenance": []
    },
    "kernelspec": {
      "name": "python3",
      "display_name": "Python 3"
    },
    "language_info": {
      "name": "python"
    }
  },
  "cells": [
    {
      "cell_type": "markdown",
      "source": [
        "**Looping/Perulangan**"
      ],
      "metadata": {
        "id": "KeVnQNpfzHYh"
      }
    },
    {
      "cell_type": "code",
      "execution_count": null,
      "metadata": {
        "id": "EaQlZEFYohHA"
      },
      "outputs": [],
      "source": [
        "for val in sequence:\n",
        "  loop body"
      ]
    },
    {
      "cell_type": "code",
      "source": [
        "# Program untuk Menghitung Jumlah Semua Angka dalam Seuah List\n",
        "L1 = [2, 4, 5, 7, 9]\n",
        "jumlah = 0\n",
        "\n",
        "# Iterasi di dalam List\n",
        "for i in L1:\n",
        "  jumlah = jumlah + i\n",
        "\n",
        "print(jumlah)"
      ],
      "metadata": {
        "id": "BTvmdZtXov75",
        "colab": {
          "base_uri": "https://localhost:8080/"
        },
        "outputId": "e5f2ff9c-073d-4fad-e132-77c03832e72c"
      },
      "execution_count": 12,
      "outputs": [
        {
          "output_type": "stream",
          "name": "stdout",
          "text": [
            "27\n"
          ]
        }
      ]
    },
    {
      "cell_type": "code",
      "source": [
        "# Program untuk Melakukan Iterasi di dalam List melalui Indeks\n",
        "minuman = [\"Teh\", \"Boba\", \"Kopi\", \"Susu\"]\n",
        "p = len(minuman)\n",
        "\n",
        "# Iterasi di dalam List melalui Indeks\n",
        "for i in range(p):\n",
        "  print(minuman[i])"
      ],
      "metadata": {
        "id": "5m7c_D-apOHl",
        "colab": {
          "base_uri": "https://localhost:8080/"
        },
        "outputId": "8509e630-b7a4-4429-92bd-f9a1d9af4df1"
      },
      "execution_count": null,
      "outputs": [
        {
          "output_type": "stream",
          "name": "stdout",
          "text": [
            "Teh\n",
            "Boba\n",
            "Kopi\n",
            "Susu\n"
          ]
        }
      ]
    },
    {
      "cell_type": "code",
      "source": [
        "# Contoh for loop Menggunakan else\n",
        "for i in range(p):\n",
        "  print(minuman[i])\n",
        "else:\n",
        "  print(\"Elemen Sudah Habis\")"
      ],
      "metadata": {
        "id": "C-tL30j7pmWU",
        "colab": {
          "base_uri": "https://localhost:8080/"
        },
        "outputId": "657be35f-384b-4ee1-fae0-13c6b99eb09e"
      },
      "execution_count": null,
      "outputs": [
        {
          "output_type": "stream",
          "name": "stdout",
          "text": [
            "Teh\n",
            "Boba\n",
            "Kopi\n",
            "Susu\n",
            "Elemen Sudah Habis\n"
          ]
        }
      ]
    },
    {
      "cell_type": "markdown",
      "source": [
        "**LATIHAN 1**"
      ],
      "metadata": {
        "id": "sRyXLGgehsQP"
      }
    },
    {
      "cell_type": "code",
      "source": [
        "list_tagihan = [50000, 75000, 125000, 300000, 200000]\n",
        "total_tagihan = 0\n",
        "\n",
        "for i in list_tagihan:\n",
        "  total_tagihan = total_tagihan + i\n",
        "\n",
        "print(total_tagihan)"
      ],
      "metadata": {
        "colab": {
          "base_uri": "https://localhost:8080/"
        },
        "id": "YkhWTppThviC",
        "outputId": "4be83465-0da1-4a9b-e21f-6dbda73e9067"
      },
      "execution_count": 11,
      "outputs": [
        {
          "output_type": "stream",
          "name": "stdout",
          "text": [
            "750000\n"
          ]
        }
      ]
    },
    {
      "cell_type": "code",
      "source": [
        "while test_expression:\n",
        "  Body of while"
      ],
      "metadata": {
        "id": "kfGP6_bUqlF3"
      },
      "execution_count": null,
      "outputs": []
    },
    {
      "cell_type": "code",
      "source": [
        "# Program untuk Menjumlahkan Semua\n",
        "# Bilangan Asli Hingga Suku ke-n\n",
        "# Jum = 1 + 2 + 3 + ... + n\n",
        "\n",
        "n = 10\n",
        "jumlah = 0\n",
        "i = 1\n",
        "\n",
        "while i <= n:\n",
        "  jumlah = jumlah + i\n",
        "  i = i + 1\n",
        "\n",
        "print(jumlah)"
      ],
      "metadata": {
        "id": "AmVyfA7hqwtx",
        "colab": {
          "base_uri": "https://localhost:8080/"
        },
        "outputId": "902c6780-9b71-4a14-e387-9ac3d15df3c0"
      },
      "execution_count": null,
      "outputs": [
        {
          "output_type": "stream",
          "name": "stdout",
          "text": [
            "55\n"
          ]
        }
      ]
    },
    {
      "cell_type": "code",
      "source": [
        "jum = 0\n",
        "i = 1\n",
        "while i <= n:\n",
        "  jum = jum + i\n",
        "  i = i + 1\n",
        "else:\n",
        "  print(jum) # Dieksekusi diluar Looping"
      ],
      "metadata": {
        "id": "tlHazdebrKWu",
        "colab": {
          "base_uri": "https://localhost:8080/"
        },
        "outputId": "1ca288d2-4a6d-484e-8af1-0a97061466ac"
      },
      "execution_count": null,
      "outputs": [
        {
          "output_type": "stream",
          "name": "stdout",
          "text": [
            "55\n"
          ]
        }
      ]
    },
    {
      "cell_type": "markdown",
      "source": [
        "**LATIHAN 2**"
      ],
      "metadata": {
        "id": "9KiIw4YopsCT"
      }
    },
    {
      "cell_type": "code",
      "source": [
        "list_tagihan = [50000, 75000, -150000, 125000, 300000, -50000, 200000]\n",
        "total_tagihan = 0\n",
        "n = len(list_tagihan)\n",
        "i = 1\n",
        "\n",
        "while i <= n:\n",
        "  total_tagihan = total_tagihan + list_tagihan[i-1]\n",
        "  i = i + 1\n",
        "else:\n",
        "  print(total_tagihan)\n"
      ],
      "metadata": {
        "id": "Q0JFkn2NpuCJ",
        "colab": {
          "base_uri": "https://localhost:8080/"
        },
        "outputId": "31dd5a2e-aee4-437d-86a7-ab88cc11968e"
      },
      "execution_count": 10,
      "outputs": [
        {
          "output_type": "stream",
          "name": "stdout",
          "text": [
            "550000\n"
          ]
        }
      ]
    },
    {
      "cell_type": "markdown",
      "source": [
        "**Percabangan/Struktur Pemilihan**"
      ],
      "metadata": {
        "id": "E4eiNb_QzQyZ"
      }
    },
    {
      "cell_type": "code",
      "source": [
        "if test expression:\n",
        "  statement(s)"
      ],
      "metadata": {
        "id": "m7ThZP2RDUYw"
      },
      "execution_count": null,
      "outputs": []
    },
    {
      "cell_type": "code",
      "source": [
        "# Jika Angka adalah Bilangan Positif maka print \"adalah Bilangan Positif\"\n",
        "\n",
        "angka = 3\n",
        "if angka > 0:\n",
        "  print(angka, \"adalah Bilangan Positif.\")\n",
        "print(\"Pernyataan ini Selalu Ditampilkan\")\n",
        "\n",
        "angka = -1\n",
        "if angka > 0:\n",
        "  print(angka, \"adalah Bilangan Positif.\")\n",
        "print(\"Pernyataan ini juga Selalu Ditampilkan\")"
      ],
      "metadata": {
        "id": "quBjdjDED5bZ",
        "colab": {
          "base_uri": "https://localhost:8080/"
        },
        "outputId": "5766e32c-8b68-4427-e8ec-b8c0a133b98e"
      },
      "execution_count": 13,
      "outputs": [
        {
          "output_type": "stream",
          "name": "stdout",
          "text": [
            "3 adalah Bilangan Positif.\n",
            "Pernyataan ini Selalu Ditampilkan\n",
            "Pernyataan ini juga Selalu Ditampilkan\n"
          ]
        }
      ]
    },
    {
      "cell_type": "code",
      "source": [
        "if test expression:\n",
        "  Body of if\n",
        "else:\n",
        "  Body of else"
      ],
      "metadata": {
        "id": "wRR5R8XnEurm"
      },
      "execution_count": null,
      "outputs": []
    },
    {
      "cell_type": "code",
      "source": [
        "# Program Disusun untuk Mengecek Apakah Angka Tersebut Kurang dari 0 atau Tidak\n",
        "# dan Menampilkan Tulisan yang Sesuai\n",
        "\n",
        "angka = 3\n",
        "\n",
        "if angka >= 0:\n",
        "  print(\"Bilangan Lebih dari atau Samadengan 0\")\n",
        "else:\n",
        "  print(\"Bilangan Kurang dari 0\")"
      ],
      "metadata": {
        "id": "Z1doc-BMEz_6",
        "colab": {
          "base_uri": "https://localhost:8080/"
        },
        "outputId": "590209fb-d70f-4bca-e72c-3ad689fa97b5"
      },
      "execution_count": 16,
      "outputs": [
        {
          "output_type": "stream",
          "name": "stdout",
          "text": [
            "Bilangan Lebih dari atau Samadengan 0\n"
          ]
        }
      ]
    },
    {
      "cell_type": "code",
      "source": [
        "# Program Disusun untuk Mengecek Apakah Dua Buah Angka Sama atau Tidak\n",
        "# dan Menampilkan Tulisan yang Sesuia\n",
        "\n",
        "a = 5\n",
        "b = 5\n",
        "\n",
        "if a == b:\n",
        "  print(\"a dan b Bernilai Sama\")\n",
        "else:\n",
        "  print(\"a dan b Bernilai Berbeda\")\n",
        "  print(\"elajar If Else\")"
      ],
      "metadata": {
        "id": "J7sdyMyhFSaJ",
        "colab": {
          "base_uri": "https://localhost:8080/"
        },
        "outputId": "6a810a82-9700-4960-b769-723f9f6868bf"
      },
      "execution_count": 17,
      "outputs": [
        {
          "output_type": "stream",
          "name": "stdout",
          "text": [
            "a dan b Bernilai Sama\n"
          ]
        }
      ]
    },
    {
      "cell_type": "code",
      "source": [
        "# Program Disusun untuk Mengecek Apakah Perbandingan dua Buah Angka\n",
        "# dan Menampilkan Tulisan yang Sesuai\n",
        "\n",
        "# Membaca Dua Angka\n",
        "bil1 = int(input(\"Masukkan Bilangan Pertama : \"))\n",
        "bil2 = int(input(\"Masukkan Bilangan Kedua : \"))\n",
        "\n",
        "# Memilih Bilangan yang Lebih Besar\n",
        "if bil1 > bil2:\n",
        "  bil_bulat_terbesar = bil1\n",
        "else:\n",
        "  bil_bulat_terbesar = bil2\n",
        "\n",
        "# Menampilkan Hasil\n",
        "print(\"Bilangan yang Lebih Besar adalah :\", bil_bulat_terbesar)"
      ],
      "metadata": {
        "id": "Xem0EMrbFrYG",
        "colab": {
          "base_uri": "https://localhost:8080/"
        },
        "outputId": "106653f1-372b-45a2-9575-87ce767fa533"
      },
      "execution_count": 18,
      "outputs": [
        {
          "output_type": "stream",
          "name": "stdout",
          "text": [
            "Masukkan Bilangan Pertama : 4\n",
            "Masukkan Bilangan Kedua : 12\n",
            "Bilangan yang Lebih Besar adalah : 12\n"
          ]
        }
      ]
    },
    {
      "cell_type": "code",
      "source": [
        "if test expression:\n",
        "  Body of if\n",
        "elif test expression:\n",
        "  Body of elif\n",
        "else:\n",
        "  Body of else"
      ],
      "metadata": {
        "id": "28mEQk6uGd4u"
      },
      "execution_count": null,
      "outputs": []
    },
    {
      "cell_type": "code",
      "source": [
        "# Program Disusun untuk Mengecek Apakah Angka Merupakan Bilangan Positif, Negatif, atau Nol\n",
        "# dan Menampilkan Tulisan yang Sesuai\n",
        "\n",
        "angka = 3.4\n",
        "\n",
        "if angka > 0:\n",
        "  print(\"Bilangan Positif\")\n",
        "elif angka == 0:\n",
        "  print(\"Nol\")\n",
        "else:\n",
        "  print(\"Bilangan Negatif\")"
      ],
      "metadata": {
        "id": "tMYeoTxYGock",
        "colab": {
          "base_uri": "https://localhost:8080/"
        },
        "outputId": "b2fc0399-d6d8-4831-f0f5-69b6fd9c516c"
      },
      "execution_count": 19,
      "outputs": [
        {
          "output_type": "stream",
          "name": "stdout",
          "text": [
            "Bilangan Positif\n"
          ]
        }
      ]
    },
    {
      "cell_type": "code",
      "source": [
        "# Satement If\n",
        "x = 4\n",
        "if x % 2 == 0: # Jika x Dibagi 2 Sisanya Samadengan 0\n",
        "  print(\"x Habis Dibagi Dua\")\n",
        "\n",
        "# Statement if ... elif ... else\n",
        "x = 7\n",
        "if x % 2 == 0: # Jika x Dibagi 2 Sisanya Samadengan 0\n",
        "  print(\"x Habis Dibagi Dua\")\n",
        "elif x % 3 == 0: # Jika x Dibagi 3 Sisanya Samadengan 0\n",
        "  print(\"x Habis Dibagi Tiga\")\n",
        "elif x % 5 == 0: # Jika x Dibagi 5 Sisanya Samadengan 0\n",
        "  print(\"x Habis Dibagi Lima\")\n",
        "else:\n",
        "  print(\"x Tidak Habis Dibagi Dua, Tiga, ataupun Lima\")"
      ],
      "metadata": {
        "id": "1djtikcpHIWd",
        "colab": {
          "base_uri": "https://localhost:8080/"
        },
        "outputId": "15c39d72-45da-438a-e718-3cc6db77649e"
      },
      "execution_count": 21,
      "outputs": [
        {
          "output_type": "stream",
          "name": "stdout",
          "text": [
            "x Habis Dibagi Dua\n",
            "x Tidak Habis Dibagi Dua, Tiga, ataupun Lima\n"
          ]
        }
      ]
    },
    {
      "cell_type": "code",
      "source": [
        "# Program Disusun untuk Mengecek Apakah Angka Merupakan Bilangan Positif, Negatif, atau Nol\n",
        "# dan Menampilkan Tulisan yang Sesuai\n",
        "\n",
        "angka = float(input(\"Masukkan Angka : \"))\n",
        "if angka >= 0:\n",
        "  if angka == 0:\n",
        "    print(\"Nol\")\n",
        "  else:\n",
        "    print(\"Bilangan Positif\")\n",
        "else:\n",
        "  print(\"Bilangan Negatif\")"
      ],
      "metadata": {
        "id": "aP_H6O5ZH_tL",
        "colab": {
          "base_uri": "https://localhost:8080/"
        },
        "outputId": "ac2df892-64b4-410d-d050-2d621938d572"
      },
      "execution_count": 23,
      "outputs": [
        {
          "output_type": "stream",
          "name": "stdout",
          "text": [
            "Masukkan Angka : 3\n",
            "Bilangan Positif\n"
          ]
        }
      ]
    },
    {
      "cell_type": "markdown",
      "source": [
        "### Latihan 3"
      ],
      "metadata": {
        "id": "hQas9tw7If0U"
      }
    },
    {
      "cell_type": "code",
      "source": [
        "harga_produk = int(input('masukkan harga_produk:'))\n",
        "\n",
        "if harga_produk > 30000:\n",
        "  kategori_input = 'murah'\n",
        "  harga_bayar = harga_produk - (harga_produk*0.1)\n",
        "elif  20000 < harga_produk <= 30000:\n",
        "  kategori_input = 'mahal'\n",
        "  harga_bayar = harga_produk - (harga_produk*0.2)\n",
        "elif 0 < harga_produk <= 20000:\n",
        "  kategori_input = 'murah'\n",
        "  harga_bayar = harga_produk - (harga_produk*0.4)\n",
        "else:\n",
        "  print('masukkan harga produk')\n",
        "\n",
        "print(f'{kategori_input}, harga yang harus dibayar adalah {harga_bayar}')\n"
      ],
      "metadata": {
        "id": "Hc4Drt-NIhvP",
        "colab": {
          "base_uri": "https://localhost:8080/"
        },
        "outputId": "cc69e8e5-3215-4a9f-d0f2-619c9652a948"
      },
      "execution_count": 17,
      "outputs": [
        {
          "output_type": "stream",
          "name": "stdout",
          "text": [
            "masukkan harga_barang:1000000\n",
            "murah, harga yang harus dibayar adalah 900000.0\n"
          ]
        }
      ]
    }
  ]
}